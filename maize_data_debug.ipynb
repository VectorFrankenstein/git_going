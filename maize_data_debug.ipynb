{
 "cells": [
  {
   "cell_type": "markdown",
   "id": "e8c6803c-e761-4573-a064-8ee173ef5be2",
   "metadata": {},
   "source": [
    "Context:\n",
    "\n",
    "I am working to run some maize data from collin.\n",
    "\n",
    "Here is the message:\n",
    "\n",
    "```\n",
    "s3://ddpsc-baxterlab/shares/baxter/users/cluebbert/from_github/PGRP_1819_revised/data/genotype/raw/imputed/WiDiv_942g_AGPv4_allChr.imputed.vcf.gz\n",
    "\n",
    "The phenotype file was in the slack message\n",
    "```"
   ]
  },
  {
   "cell_type": "markdown",
   "id": "206c5d11-7ada-45dd-9cc3-ad11536d4a42",
   "metadata": {},
   "source": [
    "Move to scratch."
   ]
  },
  {
   "cell_type": "code",
   "execution_count": null,
   "id": "77059e46-8146-45ef-9124-3c958bf41422",
   "metadata": {},
   "outputs": [],
   "source": [
    "setwd(\"/scratch/\")"
   ]
  },
  {
   "cell_type": "markdown",
   "id": "f43f3b92-6fa1-4c78-8108-7c7989dcdfe2",
   "metadata": {},
   "source": [
    "Make sure your keys are up to date"
   ]
  },
  {
   "cell_type": "code",
   "execution_count": null,
   "id": "ee4d855c-a160-41b7-af59-626722944768",
   "metadata": {},
   "outputs": [],
   "source": [
    "system(\"aws s3 cp s3://ddpsc-baxterlab/shares/baxter/users/cluebbert/from_github/PGRP_1819_revised/data/genotype/raw/imputed/WiDiv_942g_AGPv4_allChr.imputed.vcf.gz .\")"
   ]
  },
  {
   "cell_type": "code",
   "execution_count": null,
   "id": "8fa45f40-41f2-43d5-8f9e-c531fee4e311",
   "metadata": {},
   "outputs": [],
   "source": [
    "library(devtools)"
   ]
  },
  {
   "cell_type": "code",
   "execution_count": null,
   "id": "3341fa35-6a2f-4ca6-ba72-30d6a1ab1645",
   "metadata": {},
   "outputs": [],
   "source": [
    "load_all(\"~/repos/panvaR/gui_devel/\")"
   ]
  },
  {
   "cell_type": "code",
   "execution_count": null,
   "id": "3845542e-817d-4445-af37-470074eac65d",
   "metadata": {},
   "outputs": [],
   "source": [
    "first_sample_run <- panvar_func(\n",
    "    phenotype_data_path = \"/scratch//PanVarPhenoTest.csv\",\n",
    "    vcf_file_path = \"/scratch//WiDiv_942g_AGPv4_allChr.imputed.vcf.gz\"\n",
    ")"
   ]
  },
  {
   "cell_type": "code",
   "execution_count": null,
   "id": "4adaf12c-eeff-412a-9d83-02fa007a71c8",
   "metadata": {},
   "outputs": [],
   "source": [
    "2 + 2"
   ]
  },
  {
   "cell_type": "code",
   "execution_count": null,
   "id": "24c9d1fe-8cb3-4832-8c14-0eae4e5ce147",
   "metadata": {},
   "outputs": [],
   "source": [
    "fwrite(first_sample_run$table,\"maize_first_run_table.tsv\", sep = \"\\t\", col.names = TRUE)"
   ]
  },
  {
   "cell_type": "code",
   "execution_count": null,
   "id": "e131b06a-679c-4a7f-b98f-d5dd6cac823d",
   "metadata": {},
   "outputs": [],
   "source": [
    "first_sample_run$plot"
   ]
  },
  {
   "cell_type": "code",
   "execution_count": null,
   "id": "9646551d-2f75-46ea-9af5-b32b6d1ec845",
   "metadata": {},
   "outputs": [],
   "source": [
    "start = Sys.time()"
   ]
  },
  {
   "cell_type": "code",
   "execution_count": null,
   "id": "560cf2a9-d0bd-4d99-9273-f6d4a442ca2f",
   "metadata": {},
   "outputs": [],
   "source": [
    "maize_panvar_gwas <- panvar_gwas(\n",
    "    genotype_data = \"WiDiv_942g_AGPv4_allChr.imputed.vcf.gz\",\n",
    "    phentotype_path = \"maize_first_run_table.tsv\"\n",
    ")"
   ]
  },
  {
   "cell_type": "code",
   "execution_count": null,
   "id": "f8b27c26-f50c-4109-bb8e-f2679c049e5b",
   "metadata": {},
   "outputs": [],
   "source": [
    "Stop = Sys.time()"
   ]
  },
  {
   "cell_type": "markdown",
   "id": "ede9606d-8c62-495e-870a-7ea95d46062e",
   "metadata": {},
   "source": [
    "The run made at 4 pm was using 4 threads"
   ]
  },
  {
   "cell_type": "code",
   "execution_count": 23,
   "id": "c2e898d7-13f4-4769-9ab3-33462dae3646",
   "metadata": {},
   "outputs": [
    {
     "data": {
      "text/plain": [
       "Time difference of 50.68836 mins"
      ]
     },
     "metadata": {},
     "output_type": "display_data"
    }
   ],
   "source": [
    "Stop - start"
   ]
  },
  {
   "cell_type": "code",
   "execution_count": 24,
   "id": "3ba4b41a-963b-4074-8c65-047e52584d5e",
   "metadata": {},
   "outputs": [
    {
     "data": {
      "text/html": [
       "3"
      ],
      "text/latex": [
       "3"
      ],
      "text/markdown": [
       "3"
      ],
      "text/plain": [
       "[1] 3"
      ]
     },
     "metadata": {},
     "output_type": "display_data"
    }
   ],
   "source": [
    "good_core_count()"
   ]
  },
  {
   "cell_type": "code",
   "execution_count": null,
   "id": "4a66fd29-d0be-4341-b1ff-1464941c9da1",
   "metadata": {},
   "outputs": [],
   "source": []
  }
 ],
 "metadata": {
  "kernelspec": {
   "display_name": "R [conda env:gnps_workflow]",
   "language": "R",
   "name": "conda-env-gnps_workflow-r"
  },
  "language_info": {
   "codemirror_mode": "r",
   "file_extension": ".r",
   "mimetype": "text/x-r-source",
   "name": "R",
   "pygments_lexer": "r",
   "version": "4.4.2"
  }
 },
 "nbformat": 4,
 "nbformat_minor": 5
}

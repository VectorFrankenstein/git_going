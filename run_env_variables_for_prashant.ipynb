{
 "cells": [
  {
   "cell_type": "markdown",
   "id": "d4cff904-379c-41d2-b7de-0cc828c9a2cc",
   "metadata": {},
   "source": [
    "# Purpose:\n",
    "\n",
    "Running panvar for prashant."
   ]
  },
  {
   "cell_type": "markdown",
   "id": "82de977f-1222-409f-9d06-f4dd85cec3fe",
   "metadata": {},
   "source": [
    "# Pre-amble"
   ]
  },
  {
   "cell_type": "code",
   "execution_count": null,
   "id": "26a424b1-4ca9-4bfd-98ed-485aa73117a7",
   "metadata": {},
   "outputs": [],
   "source": [
    "setwd(\"/scratch/\")"
   ]
  },
  {
   "cell_type": "markdown",
   "id": "4ec08c44-a814-46d4-b4dd-f3f942bb17a8",
   "metadata": {},
   "source": [
    "Make a directory and get the data"
   ]
  },
  {
   "cell_type": "code",
   "execution_count": null,
   "id": "e52ba64f-71c1-469e-b8b1-ad8648ae281e",
   "metadata": {},
   "outputs": [],
   "source": [
    "dir.create(\"setaria\")"
   ]
  },
  {
   "cell_type": "code",
   "execution_count": null,
   "id": "6e9866c5-f379-47c5-8036-44f88f314281",
   "metadata": {},
   "outputs": [],
   "source": [
    "system(\"aws s3 cp s3://ddpsc-baxterlab-data/panvar/panvar_mwe/raw_inputs/setaria/setaria_annotated_vcf.vcf.gz setaria/.\")"
   ]
  },
  {
   "cell_type": "markdown",
   "id": "1571f42a-96f4-4f38-bedd-534d0267247e",
   "metadata": {},
   "source": [
    "# Dependiencies"
   ]
  },
  {
   "cell_type": "code",
   "execution_count": null,
   "id": "6274e959-ce08-4015-bbbc-1027742c7ef0",
   "metadata": {},
   "outputs": [],
   "source": [
    "library(devtools)"
   ]
  },
  {
   "cell_type": "markdown",
   "id": "d392564b-3b78-420a-a36c-5040e456a09a",
   "metadata": {},
   "source": [
    "Install `panvar`"
   ]
  },
  {
   "cell_type": "code",
   "execution_count": null,
   "id": "0f4270ef-a3c5-46d1-b23f-5e643ae54a73",
   "metadata": {},
   "outputs": [],
   "source": [
    "load_all(\"~/repos/devel_panvar/\")"
   ]
  },
  {
   "cell_type": "markdown",
   "id": "02332244-6f96-4fe6-9e6d-104bc41189d5",
   "metadata": {},
   "source": [
    "If you need to rebuild the library for `rmd`.\n",
    "\n",
    "The order is important here."
   ]
  },
  {
   "cell_type": "code",
   "execution_count": null,
   "id": "11d696b9-b952-4e27-af1e-b8f79f9d9a1a",
   "metadata": {},
   "outputs": [],
   "source": [
    "setwd(\"~/repos/devel_panvar/\")"
   ]
  },
  {
   "cell_type": "code",
   "execution_count": null,
   "id": "998b085e-d1d9-49b2-b8ad-929d369adcdc",
   "metadata": {},
   "outputs": [],
   "source": [
    "devtools::document()"
   ]
  },
  {
   "cell_type": "code",
   "execution_count": null,
   "id": "b9ebc9d0-3e53-4854-9e28-6237b461e31c",
   "metadata": {},
   "outputs": [],
   "source": [
    "devtools::build()"
   ]
  },
  {
   "cell_type": "code",
   "execution_count": null,
   "id": "f03a853a-ee41-4928-89e7-501f0997e257",
   "metadata": {},
   "outputs": [],
   "source": [
    "devtools::build_rmd(\"vignettes/panvaR.Rmd\")"
   ]
  },
  {
   "cell_type": "markdown",
   "id": "d5dd4bf0-4ad1-4ebe-b585-c641af46bfe4",
   "metadata": {},
   "source": [
    "# Inputs"
   ]
  },
  {
   "cell_type": "markdown",
   "id": "684f1805-eff9-462b-9c61-69d6e941400e",
   "metadata": {},
   "source": [
    "# Scratch"
   ]
  },
  {
   "cell_type": "code",
   "execution_count": null,
   "id": "f5ff0181-742c-4dba-92dc-99620c67ac41",
   "metadata": {},
   "outputs": [],
   "source": [
    "input_file_list <- Sys.glob(\"bios/*\")"
   ]
  },
  {
   "cell_type": "code",
   "execution_count": null,
   "id": "d38a8bc0-ef0a-4492-9c39-1ae90dda3e6d",
   "metadata": {},
   "outputs": [],
   "source": [
    "for(file in input_file_list){\n",
    "    \n",
    "    table <- panvar_func(\n",
    "        phenotype_data_path = file,\n",
    "        vcf_file_path = \"setaria/setaria_annotated_vcf.vcf.gz\",\n",
    "        chrom = \"Chr_02\",\n",
    "        bp = 3992421,\n",
    "        all.impacts = TRUE,\n",
    "        r2_threshold = 0.5\n",
    "    )\n",
    "\n",
    "    file_name = paste0(file,\"_panvar_output_table.tsv\")\n",
    "\n",
    "    table$table %>%\n",
    "        fwrite(file_name,sep = \"\\t\",col.names = TRUE)\n",
    "}"
   ]
  },
  {
   "cell_type": "code",
   "execution_count": null,
   "id": "dfb07495-528d-4b7d-9a17-0abf31b68257",
   "metadata": {},
   "outputs": [],
   "source": []
  }
 ],
 "metadata": {
  "kernelspec": {
   "display_name": "R [conda env:jupyter_general] *",
   "language": "R",
   "name": "conda-env-jupyter_general-r"
  },
  "language_info": {
   "codemirror_mode": "r",
   "file_extension": ".r",
   "mimetype": "text/x-r-source",
   "name": "R",
   "pygments_lexer": "r",
   "version": "4.3.3"
  }
 },
 "nbformat": 4,
 "nbformat_minor": 5
}

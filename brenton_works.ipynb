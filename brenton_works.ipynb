{
 "cells": [
  {
   "cell_type": "markdown",
   "id": "776dcd9d-4790-4fcf-a340-5991f4790502",
   "metadata": {},
   "source": [
    "# Purpose:\n",
    "\n",
    "Make outputs for the Zachry Brenton Sorghum paper"
   ]
  },
  {
   "cell_type": "markdown",
   "id": "4fc8e363-77ba-4d2f-ac4c-af275229a9b9",
   "metadata": {},
   "source": [
    "# Pre-amble"
   ]
  },
  {
   "cell_type": "code",
   "execution_count": null,
   "id": "9364e71e-4b2c-48ee-82c1-c3a7354de497",
   "metadata": {},
   "outputs": [],
   "source": [
    "setwd(\"/scratch/\")"
   ]
  },
  {
   "cell_type": "markdown",
   "id": "5e4bc0bf-03fc-4476-8df2-e037f58e55a7",
   "metadata": {},
   "source": [
    "Make a directory and get the data"
   ]
  },
  {
   "cell_type": "code",
   "execution_count": null,
   "id": "c1f3abde-fce7-4bc1-834c-c8522879d3f0",
   "metadata": {},
   "outputs": [],
   "source": [
    "dir.create(\"sorghum/\")\n",
    "system(\"aws s3 sync s3://ddpsc-baxterlab-data/panvar/panvar_mwe/raw_inputs/sorghum/ sorghum/\")"
   ]
  },
  {
   "cell_type": "code",
   "execution_count": null,
   "id": "0362276e-3741-408d-832c-01aa3e94377b",
   "metadata": {},
   "outputs": [],
   "source": [
    "system2(\"rclone copy dandrive:WIP/panvar/sorghum/BAP_WSC/sorghum_BAP_WSC_gwas.tsv .\")"
   ]
  },
  {
   "cell_type": "markdown",
   "id": "4c19ea9c-95ec-4c91-a0a7-c189ff4bd195",
   "metadata": {},
   "source": [
    "# Dependencies"
   ]
  },
  {
   "cell_type": "code",
   "execution_count": null,
   "id": "ba438607-a515-4738-8a05-074b9cca8287",
   "metadata": {},
   "outputs": [],
   "source": [
    "library(devtools)"
   ]
  },
  {
   "cell_type": "markdown",
   "id": "b2e9b43b-2453-45f7-b51f-e7aba85c0561",
   "metadata": {},
   "source": [
    "Install `panvar`"
   ]
  },
  {
   "cell_type": "code",
   "execution_count": null,
   "id": "81303782-5eb2-490c-bf17-4ab4c5cf8981",
   "metadata": {},
   "outputs": [],
   "source": [
    "load_all(\"~/repos/devel_panvar/\")"
   ]
  },
  {
   "cell_type": "markdown",
   "id": "f053db73-2087-40d3-b1f4-4a8448b0a2cf",
   "metadata": {},
   "source": [
    "If you need to rebuild the library for `rmd`.\n",
    "\n",
    "The order is important here."
   ]
  },
  {
   "cell_type": "code",
   "execution_count": null,
   "id": "3a8ff6ac-8980-4dec-9237-88dd72345bbf",
   "metadata": {},
   "outputs": [],
   "source": [
    "setwd(\"~/repos/devel_panvar/\")"
   ]
  },
  {
   "cell_type": "code",
   "execution_count": null,
   "id": "52849736-49c9-408c-9fef-6d6caabc8d76",
   "metadata": {},
   "outputs": [],
   "source": [
    "devtools::document()"
   ]
  },
  {
   "cell_type": "code",
   "execution_count": null,
   "id": "cad82c26-bf99-429c-b757-49107f4d8be8",
   "metadata": {},
   "outputs": [],
   "source": [
    "devtools::build()"
   ]
  },
  {
   "cell_type": "code",
   "execution_count": null,
   "id": "9fa45685-97c1-4ec8-bbb5-b732b6aced2f",
   "metadata": {},
   "outputs": [],
   "source": [
    "devtools::build_rmd(\"vignettes/panvaR.Rmd\")"
   ]
  },
  {
   "cell_type": "markdown",
   "id": "cd37939d-77ff-48a9-9b78-66e624a47ab1",
   "metadata": {},
   "source": [
    "# Inputs"
   ]
  },
  {
   "cell_type": "markdown",
   "id": "b9175371-e4ba-4f14-8931-a3d53cc3f7fe",
   "metadata": {},
   "source": [
    "# Scratch"
   ]
  },
  {
   "cell_type": "code",
   "execution_count": null,
   "id": "d3ea48a6-9adc-44ac-91f6-a582793dc68c",
   "metadata": {},
   "outputs": [],
   "source": [
    "gwas_table <- panvar_gwas(\n",
    "    genotype_data = \"sorghum/BAP_376_Chrall_imputed_annotated.vcf.gz\",\n",
    "    phentotype_path = \"sorghum/BAP_WSC_pheno.tsv\"\n",
    ")"
   ]
  },
  {
   "cell_type": "code",
   "execution_count": null,
   "id": "8d337d93-c36a-45af-b589-60af951d85e7",
   "metadata": {},
   "outputs": [],
   "source": [
    "gwas_table %>% \n",
    "    fwrite(\"sorghum_BAP_WSC_gwas.tsv\", sep = \"\\t\", col.names = TRUE)"
   ]
  },
  {
   "cell_type": "code",
   "execution_count": null,
   "id": "4226536f-a32a-4950-a892-395c697c43f5",
   "metadata": {},
   "outputs": [],
   "source": [
    "gwas_table %>% \n",
    "    filter(CHROM == 4) %>%\n",
    "    filter(Pvalues > 18)"
   ]
  },
  {
   "cell_type": "code",
   "execution_count": null,
   "id": "d181edbe-11ec-4fc0-93d4-d6372cc8005a",
   "metadata": {},
   "outputs": [],
   "source": [
    "test_run <- panvar_func(\n",
    "    phenotype_data_path = \"sorghum/BAP_WSC_pheno.tsv\",\n",
    "    vcf_file_path = \"sorghum/BAP_376_Chrall_imputed_annotated.vcf.gz\",\n",
    "    chrom = \"Chr04\",\n",
    "    bp = 66529675,\n",
    "    all.impacts = FALSE,\n",
    "    r2_threshold = 0.8\n",
    ")"
   ]
  },
  {
   "cell_type": "code",
   "execution_count": null,
   "id": "15ccf201-3409-4d3f-a43b-c1c8a4ea3b3f",
   "metadata": {},
   "outputs": [],
   "source": [
    "test_run2 <- panvar_func(\n",
    "    phenotype_data_path = \"sorghum/BAP_WSC_pheno.tsv\",\n",
    "    vcf_file_path = \"sorghum/BAP_376_Chrall_imputed_annotated.vcf.gz\",\n",
    "    chrom = \"Chr04\",\n",
    "    bp = 17548900,\n",
    "    all.impacts = TRUE,\n",
    "    r2_threshold = 0.8\n",
    ")"
   ]
  },
  {
   "cell_type": "markdown",
   "id": "f1d13be8-6eda-4cc9-aa4e-82f0616e40e9",
   "metadata": {},
   "source": [
    "Error\n",
    "```txt\n",
    "Error in `left_join()`:\n",
    "! Can't join `x$CHROM` with `y$CHROM` due to incompatible types.\n",
    "ℹ `x$CHROM` is a <character>.\n",
    "ℹ `y$CHROM` is a <double>.\n",
    "```"
   ]
  },
  {
   "cell_type": "code",
   "execution_count": null,
   "id": "b5ca93d0-0393-4504-8934-730b86eafb09",
   "metadata": {},
   "outputs": [],
   "source": [
    "phenotype_data_path = \"sorghum/BAP_WSC_pheno.tsv\"\n",
    "vcf_file_path = \"sorghum/BAP_376_Chrall_imputed_annotated.vcf.gz\"\n",
    "chrom = \"Chr04\"\n",
    "bp = 17548900\n",
    "all.impacts = TRUE"
   ]
  },
  {
   "cell_type": "code",
   "execution_count": null,
   "id": "0dc4e30f-797c-48f7-97b7-17db2ff10400",
   "metadata": {},
   "outputs": [],
   "source": [
    "window = 500000\n",
    "missing_rate = 0.10\n",
    "maf = 0.05\n",
    "r2_threshold = 0.3"
   ]
  },
  {
   "cell_type": "code",
   "execution_count": null,
   "id": "18384c11-7842-4cfb-94b5-30ef1c2109a4",
   "metadata": {},
   "outputs": [],
   "source": [
    "gwas_table <- fread(\"sorghum_BAP_WSC_gwas.tsv\")"
   ]
  },
  {
   "cell_type": "code",
   "execution_count": null,
   "id": "53920f0f-d3c4-4d9b-bdaa-8bc8cd9a7566",
   "metadata": {},
   "outputs": [],
   "source": [
    "window_bp <- window_unit_func(window)"
   ]
  },
  {
   "cell_type": "code",
   "execution_count": null,
   "id": "ebf2caf7-1d52-4de8-b997-bf9c98fa6023",
   "metadata": {},
   "outputs": [],
   "source": [
    "in_plink_format <- vcf_to_plink2(vcf_file_path)"
   ]
  },
  {
   "cell_type": "code",
   "execution_count": null,
   "id": "32291da9-bcca-4273-a0b7-de50b9553e99",
   "metadata": {},
   "outputs": [],
   "source": [
    "cleaned_up <- bed_file_clean_up(in_plink_format$bed, maf = maf, missing_rate = missing_rate)"
   ]
  },
  {
   "cell_type": "code",
   "execution_count": null,
   "id": "d81c179f-973b-45d3-aef1-d704ae8da529",
   "metadata": {},
   "outputs": [],
   "source": [
    "subset_genotype_data <- subset_around_tag(cleaned_up,chrom = chrom, bp = bp, window = window_bp)"
   ]
  },
  {
   "cell_type": "code",
   "execution_count": null,
   "id": "2edd9630-0406-4be0-91ac-ca7e95352ce1",
   "metadata": {},
   "outputs": [],
   "source": [
    "table <- ld_filtered_snp_list(subset_genotype_data,chrom = chrom, bp = bp, r2_threshold = r2_threshold)"
   ]
  },
  {
   "cell_type": "code",
   "execution_count": null,
   "id": "c6537809-8981-4d92-8925-368195b93f7e",
   "metadata": {},
   "outputs": [],
   "source": [
    "ld_filtered_snp_list"
   ]
  },
  {
   "cell_type": "code",
   "execution_count": null,
   "id": "0bd5d6ee-bca6-4272-bf2b-32fecf914c54",
   "metadata": {},
   "outputs": [],
   "source": [
    "return_snplist_for_bp"
   ]
  },
  {
   "cell_type": "code",
   "execution_count": null,
   "id": "d6e9207f-2de9-4747-a318-c28887e84545",
   "metadata": {},
   "outputs": [],
   "source": [
    "ld_table <- ld_table_maker(table)"
   ]
  },
  {
   "cell_type": "code",
   "execution_count": null,
   "id": "b51a02d3-5268-40dd-a395-e5f2a4fcab66",
   "metadata": {},
   "outputs": [],
   "source": [
    "keep_snp_list <- snps_to_keep(table)"
   ]
  },
  {
   "cell_type": "code",
   "execution_count": null,
   "id": "e3064d66-cfbf-485c-8953-e9fae653a5e6",
   "metadata": {},
   "outputs": [],
   "source": [
    "plink2_bcf_dictionary <- plink2_bcftools_chroms_dictionary(vcf_file_path,in_plink_format$bim)"
   ]
  },
  {
   "cell_type": "code",
   "execution_count": null,
   "id": "b8151714-b1b4-4239-b04b-e6c5f69e4c0c",
   "metadata": {},
   "outputs": [],
   "source": [
    "if(!is.null(plink2_bcf_dictionary)){\n",
    "\t\tld_table_checked <- apply_dict(plink2_bcf_dictionary, ld_table)\n",
    "\n",
    "\t\tsnp_keep_list_checked <- apply_dict(plink2_bcf_dictionary, keep_snp_list)\n",
    "\n",
    "        gwas_table_dicted <- apply_dict(plink2_bcf_dictionary, gwas_table)\n",
    "\t} else{\n",
    "\t\t\n",
    "\t\tld_table_checked <-  ld_table\n",
    "\n",
    "\t\tsnp_keep_list_checked <- keep_snp_list\n",
    "\n",
    "        gwas_table_dicted <- gwas_table\n",
    "\t}"
   ]
  },
  {
   "cell_type": "code",
   "execution_count": null,
   "id": "e7966276-770d-4815-a147-a4621eb2b526",
   "metadata": {},
   "outputs": [],
   "source": [
    "keep_table_path <- keep_table_sanitizer(snp_keep_list_checked)"
   ]
  },
  {
   "cell_type": "code",
   "execution_count": null,
   "id": "d0fc4a90-697d-49ca-941c-60409882acff",
   "metadata": {},
   "outputs": [],
   "source": [
    "keep_table_path"
   ]
  },
  {
   "cell_type": "code",
   "execution_count": null,
   "id": "36bc0335-69b7-4222-8e03-c809fbcae787",
   "metadata": {},
   "outputs": [],
   "source": [
    "filtered_vcf_table <- filter_vcf_file(vcf_file_path = vcf_file_path, keep_table_path)"
   ]
  },
  {
   "cell_type": "code",
   "execution_count": null,
   "id": "baf4f2e5-c943-4fbc-bd66-83490de09f9e",
   "metadata": {},
   "outputs": [],
   "source": [
    "split_table_path <- split_vcf_eff(filtered_vcf_table)"
   ]
  },
  {
   "cell_type": "code",
   "execution_count": null,
   "id": "04df7846-a967-48dc-93e0-d38e84bfb494",
   "metadata": {},
   "outputs": [],
   "source": [
    "snpeff_table <- execute_snpsift(split_table_path)"
   ]
  },
  {
   "cell_type": "code",
   "execution_count": null,
   "id": "12959626-8bdf-4fd8-b993-6261d54d4de8",
   "metadata": {},
   "outputs": [],
   "source": [
    "snpsift_table <- snpeff_table$table"
   ]
  },
  {
   "cell_type": "code",
   "execution_count": null,
   "id": "a40a88d1-0533-4fc7-89ca-f9487574acc5",
   "metadata": {},
   "outputs": [],
   "source": [
    "all.impacts = TRUE\n",
    "if(all.impacts){\n",
    "        snpsift_table_impacts <- snpsift_table\n",
    "    } else {\n",
    "        snpsift_table_impacts <- snpsift_table %>% \n",
    "            filter(IMPACT %in% c(\"HIGH\",\"MODERATE\") | BP == bp ) # The OR condition lets us retain the tag SNP which might be dropped if the IMPACT factor is not HIGH or MODERATE\n",
    "    }"
   ]
  },
  {
   "cell_type": "code",
   "execution_count": null,
   "id": "f9f80579-8387-4fc5-a487-302fd0857642",
   "metadata": {},
   "outputs": [],
   "source": [
    "pvalues_impact_ld_table <- snpsift_table_impacts %>%\n",
    "        left_join(gwas_table_dicted, by = c(\"CHROM\",\"BP\")) %>%\n",
    "        left_join(ld_table_checked, by = c(\"CHROM\",\"BP\"))"
   ]
  },
  {
   "cell_type": "code",
   "execution_count": null,
   "id": "b090ec87-12d2-4c34-add0-a29c3b28082b",
   "metadata": {},
   "outputs": [],
   "source": [
    "    pvalues_impact_ld_colors_table <- pvalues_impact_ld_table %>% mutate(\n",
    "        Type = case_when(\n",
    "            BP == bp ~ \"tag_snp\",\n",
    "            BP != bp ~ \"Candidate\"\n",
    "        )\n",
    "    )"
   ]
  },
  {
   "cell_type": "code",
   "execution_count": null,
   "id": "8c699562-f28a-4a24-bb4e-7477d0faa34b",
   "metadata": {},
   "outputs": [],
   "source": [
    "overall_weight_func(pvalues_impact_ld_colors_table, bp = bp) %>% \n",
    "    filter(IMPACT %in% c(\"HIGH\",\"MODERATE\"))"
   ]
  },
  {
   "cell_type": "code",
   "execution_count": null,
   "id": "0c25f8ed-c253-454c-b22d-d4deae28821f",
   "metadata": {},
   "outputs": [],
   "source": [
    "test_run$table %>%\n",
    "    filter(IMPACT != \"MODIFIER\") %>%\n",
    "    filter(IMPACT != \"LOW\") %>%\n",
    "    filter(LD >= 0.8)"
   ]
  },
  {
   "cell_type": "code",
   "execution_count": null,
   "id": "216d38a8-c72e-4c28-a933-686e816f1242",
   "metadata": {},
   "outputs": [],
   "source": [
    "library(qqman)"
   ]
  },
  {
   "cell_type": "code",
   "execution_count": null,
   "id": "54d6cef9-10a0-4ed4-92d4-2ccfd134da15",
   "metadata": {},
   "outputs": [],
   "source": [
    "jpeg(\"~/in_progress/manhattan.jped\", height = 1200, width = 1800)\n",
    "manhattan(gwas_table,chr=\"CHROM\", bp = \"BP\", p = \"unlogged\", snp = \"snp\", suggestiveline = FALSE, genomewideline = 11.7, cex.lab = 1.8, cex.axis = 1.8,mgp = c(2.5, 1, 0),ylab = \"-log10(p)\",logp = TRUE)\n",
    "dev.off()"
   ]
  },
  {
   "cell_type": "code",
   "execution_count": null,
   "id": "aa8bed8f-d6e0-4b83-95f5-c6b3976d386f",
   "metadata": {},
   "outputs": [],
   "source": [
    "manhattan(gwas_table,chr=\"CHROM\", bp = \"BP\", p = \"Pvalues\", snp = \"snp\", suggestiveline = FALSE, genomewideline = 6.7, cex.lab = 1.8, cex.axis = 1.8,mgp = c(2.5, 1, 0),ylab = \"-log10(p)\")"
   ]
  },
  {
   "cell_type": "code",
   "execution_count": null,
   "id": "58e995d3-44c5-4eca-be55-0e9bb83e4c81",
   "metadata": {},
   "outputs": [],
   "source": [
    "log10((10^-5)/nrow(gwas_table))"
   ]
  },
  {
   "cell_type": "code",
   "execution_count": null,
   "id": "21066268-a046-4b5f-b50c-e40edf917dcf",
   "metadata": {},
   "outputs": [],
   "source": [
    "gwas_table$unlogged = 1/10^(gwas_table$Pvalues)"
   ]
  },
  {
   "cell_type": "code",
   "execution_count": null,
   "id": "cc18a78d-6394-4c71-9c3e-a2ce95c345d9",
   "metadata": {},
   "outputs": [],
   "source": [
    "manhattan(gwas_table,chr=\"CHROM\", bp = \"BP\", p = \"unlogged\", snp = \"snp\", suggestiveline = FALSE, genomewideline = 11.7, cex.lab = 1.8, cex.axis = 1.8,mgp = c(2.5, 1, 0),ylab = \"-log10(p)\",logp = TRUE)"
   ]
  },
  {
   "cell_type": "code",
   "execution_count": null,
   "id": "fc4c1598-06cc-4e3e-81f9-e5995cf1e5b4",
   "metadata": {},
   "outputs": [],
   "source": [
    "-log10((2.838*10e-7)/28.6529425104887)"
   ]
  },
  {
   "cell_type": "code",
   "execution_count": null,
   "id": "49b2a4c5-753b-4629-90b0-a47170cce60d",
   "metadata": {},
   "outputs": [],
   "source": [
    "nrow(gwas_table)"
   ]
  },
  {
   "cell_type": "code",
   "execution_count": null,
   "id": "e968ef53-bce6-49dc-8fb7-87c36a03a9f9",
   "metadata": {},
   "outputs": [],
   "source": [
    "log10(2.838*10e-7 * 5053806)"
   ]
  },
  {
   "cell_type": "code",
   "execution_count": null,
   "id": "46d63719-bfbf-4378-9126-daa5f6289eaa",
   "metadata": {},
   "outputs": [],
   "source": [
    "-log10(0.01/5053806)"
   ]
  },
  {
   "cell_type": "code",
   "execution_count": null,
   "id": "04d9394c-ee86-41aa-a2a6-d6ab68a4011c",
   "metadata": {},
   "outputs": [],
   "source": [
    "?manhattan"
   ]
  },
  {
   "cell_type": "code",
   "execution_count": null,
   "id": "79e64e42-3523-435a-878f-582b29158b26",
   "metadata": {},
   "outputs": [],
   "source": []
  }
 ],
 "metadata": {
  "kernelspec": {
   "display_name": "R [conda env:panvar_devel]",
   "language": "R",
   "name": "conda-env-panvar_devel-r"
  },
  "language_info": {
   "codemirror_mode": "r",
   "file_extension": ".r",
   "mimetype": "text/x-r-source",
   "name": "R",
   "pygments_lexer": "r",
   "version": "4.4.1"
  }
 },
 "nbformat": 4,
 "nbformat_minor": 5
}

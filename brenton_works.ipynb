{
 "cells": [
  {
   "cell_type": "markdown",
   "id": "776dcd9d-4790-4fcf-a340-5991f4790502",
   "metadata": {},
   "source": [
    "# Purpose:\n",
    "\n",
    "Make outputs for the Zachry Brenton Sorghum paper"
   ]
  },
  {
   "cell_type": "markdown",
   "id": "4fc8e363-77ba-4d2f-ac4c-af275229a9b9",
   "metadata": {},
   "source": [
    "# Pre-amble"
   ]
  },
  {
   "cell_type": "code",
   "execution_count": null,
   "id": "9364e71e-4b2c-48ee-82c1-c3a7354de497",
   "metadata": {},
   "outputs": [],
   "source": [
    "setwd(\"/scratch/\")"
   ]
  },
  {
   "cell_type": "markdown",
   "id": "5e4bc0bf-03fc-4476-8df2-e037f58e55a7",
   "metadata": {},
   "source": [
    "Make a directory and get the data"
   ]
  },
  {
   "cell_type": "code",
   "execution_count": null,
   "id": "c1f3abde-fce7-4bc1-834c-c8522879d3f0",
   "metadata": {},
   "outputs": [],
   "source": [
    "dir.create(\"sorghum/\")\n",
    "system(\"aws s3 sync s3://ddpsc-baxterlab-data/panvar/panvar_mwe/raw_inputs/sorghum/ sorghum/\")"
   ]
  },
  {
   "cell_type": "code",
   "execution_count": null,
   "id": "0362276e-3741-408d-832c-01aa3e94377b",
   "metadata": {},
   "outputs": [],
   "source": [
    "system(\"rclone copy dandrive:WIP/panvar/sorghum/BAP_WSC/sorghum_BAP_WSC_gwas.tsv .\")"
   ]
  },
  {
   "cell_type": "markdown",
   "id": "4c19ea9c-95ec-4c91-a0a7-c189ff4bd195",
   "metadata": {},
   "source": [
    "# Dependencies"
   ]
  },
  {
   "cell_type": "code",
   "execution_count": null,
   "id": "ba438607-a515-4738-8a05-074b9cca8287",
   "metadata": {},
   "outputs": [],
   "source": [
    "library(devtools)"
   ]
  },
  {
   "cell_type": "markdown",
   "id": "b2e9b43b-2453-45f7-b51f-e7aba85c0561",
   "metadata": {},
   "source": [
    "Install `panvar`"
   ]
  },
  {
   "cell_type": "code",
   "execution_count": null,
   "id": "81303782-5eb2-490c-bf17-4ab4c5cf8981",
   "metadata": {},
   "outputs": [],
   "source": [
    "load_all(\"~/repos/devel_panvar/\")"
   ]
  },
  {
   "cell_type": "markdown",
   "id": "f053db73-2087-40d3-b1f4-4a8448b0a2cf",
   "metadata": {},
   "source": [
    "If you need to rebuild the library for `rmd`.\n",
    "\n",
    "The order is important here."
   ]
  },
  {
   "cell_type": "code",
   "execution_count": null,
   "id": "3a8ff6ac-8980-4dec-9237-88dd72345bbf",
   "metadata": {},
   "outputs": [],
   "source": [
    "setwd(\"~/repos/devel_panvar/\")"
   ]
  },
  {
   "cell_type": "code",
   "execution_count": null,
   "id": "52849736-49c9-408c-9fef-6d6caabc8d76",
   "metadata": {},
   "outputs": [],
   "source": [
    "devtools::document()"
   ]
  },
  {
   "cell_type": "code",
   "execution_count": null,
   "id": "cad82c26-bf99-429c-b757-49107f4d8be8",
   "metadata": {},
   "outputs": [],
   "source": [
    "devtools::build()"
   ]
  },
  {
   "cell_type": "code",
   "execution_count": null,
   "id": "9fa45685-97c1-4ec8-bbb5-b732b6aced2f",
   "metadata": {},
   "outputs": [],
   "source": [
    "devtools::build_rmd(\"vignettes/panvaR.Rmd\")"
   ]
  },
  {
   "cell_type": "markdown",
   "id": "cd37939d-77ff-48a9-9b78-66e624a47ab1",
   "metadata": {},
   "source": [
    "# Inputs"
   ]
  },
  {
   "cell_type": "markdown",
   "id": "b9175371-e4ba-4f14-8931-a3d53cc3f7fe",
   "metadata": {},
   "source": [
    "# Scratch"
   ]
  },
  {
   "cell_type": "code",
   "execution_count": null,
   "id": "d3ea48a6-9adc-44ac-91f6-a582793dc68c",
   "metadata": {},
   "outputs": [],
   "source": [
    "gwas_table <- panvar_gwas(\n",
    "    genotype_data = \"sorghum/BAP_376_Chrall_imputed_annotated.vcf.gz\",\n",
    "    phentotype_path = \"sorghum/BAP_WSC_pheno.tsv\"\n",
    ")"
   ]
  },
  {
   "cell_type": "code",
   "execution_count": null,
   "id": "8d337d93-c36a-45af-b589-60af951d85e7",
   "metadata": {},
   "outputs": [],
   "source": [
    "gwas_table %>% \n",
    "    fwrite(\"sorghum_BAP_WSC_gwas.tsv\", sep = \"\\t\", col.names = TRUE)"
   ]
  },
  {
   "cell_type": "code",
   "execution_count": null,
   "id": "4226536f-a32a-4950-a892-395c697c43f5",
   "metadata": {},
   "outputs": [],
   "source": [
    "gwas_table %>% \n",
    "    filter(CHROM == 4) %>%\n",
    "    filter(Pvalues > 18)"
   ]
  },
  {
   "cell_type": "code",
   "execution_count": null,
   "id": "d181edbe-11ec-4fc0-93d4-d6372cc8005a",
   "metadata": {},
   "outputs": [],
   "source": [
    "test_run <- panvar_func(\n",
    "    phenotype_data_path = \"sorghum/BAP_WSC_pheno.tsv\",\n",
    "    vcf_file_path = \"sorghum/BAP_376_Chrall_imputed_annotated.vcf.gz\",\n",
    "    chrom = \"Chr04\",\n",
    "    bp = 66529675,\n",
    "    all.impacts = TRUE\n",
    ")"
   ]
  },
  {
   "cell_type": "code",
   "execution_count": null,
   "id": "b5ca93d0-0393-4504-8934-730b86eafb09",
   "metadata": {},
   "outputs": [],
   "source": []
  }
 ],
 "metadata": {
  "kernelspec": {
   "display_name": "R [conda env:panvar_devel]",
   "language": "R",
   "name": "conda-env-panvar_devel-r"
  },
  "language_info": {
   "codemirror_mode": "r",
   "file_extension": ".r",
   "mimetype": "text/x-r-source",
   "name": "R",
   "pygments_lexer": "r",
   "version": "4.4.1"
  }
 },
 "nbformat": 4,
 "nbformat_minor": 5
}

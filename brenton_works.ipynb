{
 "cells": [
  {
   "cell_type": "markdown",
   "id": "776dcd9d-4790-4fcf-a340-5991f4790502",
   "metadata": {},
   "source": [
    "# Purpose:\n",
    "\n",
    "Make outputs for the Zachry Brenton Sorghum paper"
   ]
  },
  {
   "cell_type": "markdown",
   "id": "4fc8e363-77ba-4d2f-ac4c-af275229a9b9",
   "metadata": {},
   "source": [
    "# Pre-amble"
   ]
  },
  {
   "cell_type": "code",
   "execution_count": null,
   "id": "9364e71e-4b2c-48ee-82c1-c3a7354de497",
   "metadata": {},
   "outputs": [],
   "source": [
    "setwd(\"/scratch/\")"
   ]
  },
  {
   "cell_type": "markdown",
   "id": "5e4bc0bf-03fc-4476-8df2-e037f58e55a7",
   "metadata": {},
   "source": [
    "Make a directory and get the data"
   ]
  },
  {
   "cell_type": "code",
   "execution_count": null,
   "id": "c1f3abde-fce7-4bc1-834c-c8522879d3f0",
   "metadata": {},
   "outputs": [],
   "source": [
    "dir.create(\"sorghum/\")\n",
    "system(\"aws s3 sync s3://ddpsc-baxterlab-data/panvar/panvar_mwe/raw_inputs/sorghum/ sorghum/\")"
   ]
  },
  {
   "cell_type": "code",
   "execution_count": null,
   "id": "0362276e-3741-408d-832c-01aa3e94377b",
   "metadata": {},
   "outputs": [],
   "source": [
    "system2(\"rclone copy dandrive:WIP/panvar/sorghum/BAP_WSC/sorghum_BAP_WSC_gwas.tsv .\")"
   ]
  },
  {
   "cell_type": "markdown",
   "id": "4c19ea9c-95ec-4c91-a0a7-c189ff4bd195",
   "metadata": {},
   "source": [
    "# Dependencies"
   ]
  },
  {
   "cell_type": "code",
   "execution_count": null,
   "id": "ba438607-a515-4738-8a05-074b9cca8287",
   "metadata": {},
   "outputs": [],
   "source": [
    "library(devtools)"
   ]
  },
  {
   "cell_type": "markdown",
   "id": "b2e9b43b-2453-45f7-b51f-e7aba85c0561",
   "metadata": {},
   "source": [
    "Install `panvar`"
   ]
  },
  {
   "cell_type": "code",
   "execution_count": null,
   "id": "81303782-5eb2-490c-bf17-4ab4c5cf8981",
   "metadata": {},
   "outputs": [],
   "source": [
    "load_all(\"~/repos/devel_panvar/\")"
   ]
  },
  {
   "cell_type": "markdown",
   "id": "f053db73-2087-40d3-b1f4-4a8448b0a2cf",
   "metadata": {},
   "source": [
    "If you need to rebuild the library for `rmd`.\n",
    "\n",
    "The order is important here."
   ]
  },
  {
   "cell_type": "code",
   "execution_count": null,
   "id": "3a8ff6ac-8980-4dec-9237-88dd72345bbf",
   "metadata": {},
   "outputs": [],
   "source": [
    "setwd(\"~/repos/devel_panvar/\")"
   ]
  },
  {
   "cell_type": "code",
   "execution_count": null,
   "id": "52849736-49c9-408c-9fef-6d6caabc8d76",
   "metadata": {},
   "outputs": [],
   "source": [
    "devtools::document()"
   ]
  },
  {
   "cell_type": "code",
   "execution_count": null,
   "id": "cad82c26-bf99-429c-b757-49107f4d8be8",
   "metadata": {},
   "outputs": [],
   "source": [
    "devtools::build()"
   ]
  },
  {
   "cell_type": "code",
   "execution_count": null,
   "id": "9fa45685-97c1-4ec8-bbb5-b732b6aced2f",
   "metadata": {},
   "outputs": [],
   "source": [
    "devtools::build_rmd(\"vignettes/panvaR.Rmd\")"
   ]
  },
  {
   "cell_type": "markdown",
   "id": "cd37939d-77ff-48a9-9b78-66e624a47ab1",
   "metadata": {},
   "source": [
    "# Inputs"
   ]
  },
  {
   "cell_type": "markdown",
   "id": "b9175371-e4ba-4f14-8931-a3d53cc3f7fe",
   "metadata": {},
   "source": [
    "# Scratch"
   ]
  },
  {
   "cell_type": "code",
   "execution_count": null,
   "id": "d3ea48a6-9adc-44ac-91f6-a582793dc68c",
   "metadata": {},
   "outputs": [],
   "source": [
    "gwas_table <- panvar_gwas(\n",
    "    genotype_data = \"sorghum/BAP_376_Chrall_imputed_annotated.vcf.gz\",\n",
    "    phentotype_path = \"sorghum/BAP_WSC_pheno.tsv\"\n",
    ")"
   ]
  },
  {
   "cell_type": "code",
   "execution_count": null,
   "id": "8d337d93-c36a-45af-b589-60af951d85e7",
   "metadata": {},
   "outputs": [],
   "source": [
    "gwas_table %>% \n",
    "    fwrite(\"sorghum_BAP_WSC_gwas.tsv\", sep = \"\\t\", col.names = TRUE)"
   ]
  },
  {
   "cell_type": "code",
   "execution_count": null,
   "id": "4226536f-a32a-4950-a892-395c697c43f5",
   "metadata": {},
   "outputs": [],
   "source": [
    "gwas_table %>% \n",
    "    filter(CHROM == 4) %>%\n",
    "    filter(Pvalues > 18)"
   ]
  },
  {
   "cell_type": "code",
   "execution_count": null,
   "id": "d181edbe-11ec-4fc0-93d4-d6372cc8005a",
   "metadata": {},
   "outputs": [],
   "source": [
    "test_run <- panvar_func(\n",
    "    phenotype_data_path = \"sorghum/BAP_WSC_pheno.tsv\",\n",
    "    vcf_file_path = \"sorghum/BAP_376_Chrall_imputed_annotated.vcf.gz\",\n",
    "    chrom = \"Chr04\",\n",
    "    bp = 66529675,\n",
    "    all.impacts = TRUE,\n",
    "    r2_threshold = 0.8\n",
    ")"
   ]
  },
  {
   "cell_type": "code",
   "execution_count": null,
   "id": "15ccf201-3409-4d3f-a43b-c1c8a4ea3b3f",
   "metadata": {},
   "outputs": [],
   "source": [
    "test_run2 <- panvar_func(\n",
    "    phenotype_data_path = \"sorghum/BAP_WSC_pheno.tsv\",\n",
    "    vcf_file_path = \"sorghum/BAP_376_Chrall_imputed_annotated.vcf.gz\",\n",
    "    chrom = \"Chr04\",\n",
    "    bp = 17548900,\n",
    "    all.impacts = TRUE,\n",
    "    r2_threshold = 0.8\n",
    ")"
   ]
  },
  {
   "cell_type": "markdown",
   "id": "f1d13be8-6eda-4cc9-aa4e-82f0616e40e9",
   "metadata": {},
   "source": [
    "Error\n",
    "```txt\n",
    "Error in `left_join()`:\n",
    "! Can't join `x$CHROM` with `y$CHROM` due to incompatible types.\n",
    "ℹ `x$CHROM` is a <character>.\n",
    "ℹ `y$CHROM` is a <double>.\n",
    "```"
   ]
  },
  {
   "cell_type": "code",
   "execution_count": 62,
   "id": "b5ca93d0-0393-4504-8934-730b86eafb09",
   "metadata": {},
   "outputs": [],
   "source": [
    "phenotype_data_path = \"sorghum/BAP_WSC_pheno.tsv\"\n",
    "vcf_file_path = \"sorghum/BAP_376_Chrall_imputed_annotated.vcf.gz\"\n",
    "chrom = \"Chr04\"\n",
    "bp = 17548900\n",
    "all.impacts = TRUE"
   ]
  },
  {
   "cell_type": "code",
   "execution_count": 63,
   "id": "0dc4e30f-797c-48f7-97b7-17db2ff10400",
   "metadata": {},
   "outputs": [],
   "source": [
    "window = 500000\n",
    "missing_rate = 0.10\n",
    "maf = 0.05\n",
    "r2_threshold = 0.3"
   ]
  },
  {
   "cell_type": "code",
   "execution_count": 64,
   "id": "18384c11-7842-4cfb-94b5-30ef1c2109a4",
   "metadata": {},
   "outputs": [],
   "source": [
    "gwas_table <- fread(\"sorghum_BAP_WSC_gwas.tsv\")"
   ]
  },
  {
   "cell_type": "code",
   "execution_count": 65,
   "id": "53920f0f-d3c4-4d9b-bdaa-8bc8cd9a7566",
   "metadata": {},
   "outputs": [],
   "source": [
    "window_bp <- window_unit_func(window)"
   ]
  },
  {
   "cell_type": "code",
   "execution_count": 66,
   "id": "ebf2caf7-1d52-4de8-b997-bf9c98fa6023",
   "metadata": {},
   "outputs": [
    {
     "name": "stdout",
     "output_type": "stream",
     "text": [
      "PLINK v2.00a6LM AVX2 Intel (5 Feb 2024)        www.cog-genomics.org/plink/2.0/\n",
      "(C) 2005-2024 Shaun Purcell, Christopher Chang   GNU General Public License v3\n",
      "Logging to panvar/BAP_376_Chrall_imputed_annotated.log.\n",
      "Options in effect:\n",
      "  --make-bed\n",
      "  --out panvar/BAP_376_Chrall_imputed_annotated\n",
      "  --set-all-var-ids Chr_@_BP_#\n",
      "  --vcf sorghum/BAP_376_Chrall_imputed_annotated.vcf.gz\n",
      "\n",
      "Start time: Sun Oct 20 15:08:33 2024\n",
      "7883 MiB RAM detected, ~5751 available; reserving 3941 MiB for main workspace.\n",
      "Using 1 compute thread.\n",
      "--vcf: 5053806 variants scanned.\n",
      "--vcf: panvar/BAP_376_Chrall_imputed_annotated-temporary.pgen +\n",
      "panvar/BAP_376_Chrall_imputed_annotated-temporary.pvar.zst +\n",
      "panvar/BAP_376_Chrall_imputed_annotated-temporary.psam written.\n",
      "376 samples (0 females, 0 males, 376 ambiguous; 376 founders) loaded from\n",
      "panvar/BAP_376_Chrall_imputed_annotated-temporary.psam.\n",
      "5053806 variants loaded from\n",
      "panvar/BAP_376_Chrall_imputed_annotated-temporary.pvar.zst.\n",
      "Note: No phenotype data present.\n",
      "Writing panvar/BAP_376_Chrall_imputed_annotated.fam ... done.\n",
      "Writing panvar/BAP_376_Chrall_imputed_annotated.bim ... done.\n",
      "Writing panvar/BAP_376_Chrall_imputed_annotated.bed ... 10111214151618192022232425272829313233353637384041424445464749505153545557585960626364666768707172737576777980818284858688899092939495979899done.\n",
      "End time: Sun Oct 20 15:09:23 2024\n",
      "[1] \"The Plink files are available in panvar/BAP_376_Chrall_imputed_annotated.bed\"\n"
     ]
    }
   ],
   "source": [
    "in_plink_format <- vcf_to_plink2(vcf_file_path)"
   ]
  },
  {
   "cell_type": "code",
   "execution_count": 67,
   "id": "32291da9-bcca-4273-a0b7-de50b9553e99",
   "metadata": {},
   "outputs": [
    {
     "name": "stdout",
     "output_type": "stream",
     "text": [
      "PLINK v2.00a6LM AVX2 Intel (5 Feb 2024)        www.cog-genomics.org/plink/2.0/\n",
      "(C) 2005-2024 Shaun Purcell, Christopher Chang   GNU General Public License v3\n",
      "Logging to panvar/BAP_376_Chrall_imputed_annotated_cleaned.log.\n",
      "Options in effect:\n",
      "  --bfile panvar/BAP_376_Chrall_imputed_annotated\n",
      "  --geno 0.1\n",
      "  --maf 0.05\n",
      "  --make-bed\n",
      "  --out panvar/BAP_376_Chrall_imputed_annotated_cleaned\n",
      "\n",
      "Start time: Sun Oct 20 15:11:11 2024\n",
      "7883 MiB RAM detected, ~5739 available; reserving 3941 MiB for main workspace.\n",
      "Using 1 compute thread.\n",
      "376 samples (0 females, 0 males, 376 ambiguous; 376 founders) loaded from\n",
      "panvar/BAP_376_Chrall_imputed_annotated.fam.\n",
      "5053806 variants loaded from panvar/BAP_376_Chrall_imputed_annotated.bim.\n",
      "Note: No phenotype data present.\n",
      "Calculating allele frequencies... 10111214151618192022232425272829313233353637384041424445464749505153545557585960626364666768707172737576777980818284858688899092939495979899done.\n",
      "--geno: 0 variants removed due to missing genotype data.\n",
      "0 variants removed due to allele frequency threshold(s)\n",
      "(--maf/--max-maf/--mac/--max-mac).\n",
      "5053806 variants remaining after main filters.\n",
      "Writing panvar/BAP_376_Chrall_imputed_annotated_cleaned.fam ... done.\n",
      "Writing panvar/BAP_376_Chrall_imputed_annotated_cleaned.bim ... done.\n",
      "Writing panvar/BAP_376_Chrall_imputed_annotated_cleaned.bed ... 10111214151618192022232425272829313233353637384041424445464749505153545557585960626364666768707172737576777980818284858688899092939495979899done.\n",
      "End time: Sun Oct 20 15:11:15 2024\n",
      "[1] \"The Plink files are available in panvar/BAP_376_Chrall_imputed_annotated_cleaned.bed\"\n"
     ]
    }
   ],
   "source": [
    "cleaned_up <- bed_file_clean_up(in_plink_format$bed, maf = maf, missing_rate = missing_rate)"
   ]
  },
  {
   "cell_type": "code",
   "execution_count": 68,
   "id": "d81c179f-973b-45d3-aef1-d704ae8da529",
   "metadata": {},
   "outputs": [
    {
     "name": "stdout",
     "output_type": "stream",
     "text": [
      "PLINK v2.00a6LM AVX2 Intel (5 Feb 2024)        www.cog-genomics.org/plink/2.0/\n",
      "(C) 2005-2024 Shaun Purcell, Christopher Chang   GNU General Public License v3\n",
      "Logging to panvar/BAP_376_Chrall_imputed_annotated_cleaned_windowd_17548900.log.\n",
      "Options in effect:\n",
      "  --bfile panvar/BAP_376_Chrall_imputed_annotated_cleaned\n",
      "  --chr Chr04\n",
      "  --from-bp 17048900\n",
      "  --make-bed\n",
      "  --out panvar/BAP_376_Chrall_imputed_annotated_cleaned_windowd_17548900\n",
      "  --to-bp 18048900\n",
      "\n",
      "Start time: Sun Oct 20 15:13:09 2024\n",
      "7883 MiB RAM detected, ~5733 available; reserving 3941 MiB for main workspace.\n",
      "Using 1 compute thread.\n",
      "376 samples (0 females, 0 males, 376 ambiguous; 376 founders) loaded from\n",
      "panvar/BAP_376_Chrall_imputed_annotated_cleaned.fam.\n",
      "558502 out of 5053806 variants loaded from\n",
      "panvar/BAP_376_Chrall_imputed_annotated_cleaned.bim.\n",
      "Note: No phenotype data present.\n",
      "4755 variants remaining after main filters.\n",
      "Writing panvar/BAP_376_Chrall_imputed_annotated_cleaned_windowd_17548900.fam\n",
      "... done.\n",
      "Writing panvar/BAP_376_Chrall_imputed_annotated_cleaned_windowd_17548900.bim\n",
      "... done.\n",
      "Writing panvar/BAP_376_Chrall_imputed_annotated_cleaned_windowd_17548900.bed\n",
      "... done.\n",
      "End time: Sun Oct 20 15:13:09 2024\n",
      "[1] \"The Plink files are available in panvar/BAP_376_Chrall_imputed_annotated_cleaned_windowd_17548900.bed\"\n"
     ]
    }
   ],
   "source": [
    "subset_genotype_data <- subset_around_tag(cleaned_up,chrom = chrom, bp = bp, window = window_bp)"
   ]
  },
  {
   "cell_type": "code",
   "execution_count": null,
   "id": "2edd9630-0406-4be0-91ac-ca7e95352ce1",
   "metadata": {},
   "outputs": [],
   "source": [
    "table <- ld_filtered_snp_list(subset_genotype_data,chrom = chrom, bp = bp, r2_threshold = r2_threshold)"
   ]
  },
  {
   "cell_type": "code",
   "execution_count": null,
   "id": "c6537809-8981-4d92-8925-368195b93f7e",
   "metadata": {},
   "outputs": [],
   "source": [
    "ld_filtered_snp_list"
   ]
  },
  {
   "cell_type": "code",
   "execution_count": null,
   "id": "0bd5d6ee-bca6-4272-bf2b-32fecf914c54",
   "metadata": {},
   "outputs": [],
   "source": [
    "return_snplist_for_bp"
   ]
  },
  {
   "cell_type": "code",
   "execution_count": null,
   "id": "d6e9207f-2de9-4747-a318-c28887e84545",
   "metadata": {},
   "outputs": [],
   "source": [
    "ld_table <- ld_table_maker(table)"
   ]
  },
  {
   "cell_type": "code",
   "execution_count": null,
   "id": "b51a02d3-5268-40dd-a395-e5f2a4fcab66",
   "metadata": {},
   "outputs": [],
   "source": [
    "keep_snp_list <- snps_to_keep(table)"
   ]
  },
  {
   "cell_type": "code",
   "execution_count": null,
   "id": "e3064d66-cfbf-485c-8953-e9fae653a5e6",
   "metadata": {},
   "outputs": [],
   "source": [
    "plink2_bcf_dictionary <- plink2_bcftools_chroms_dictionary(vcf_file_path,in_plink_format$bim)"
   ]
  },
  {
   "cell_type": "code",
   "execution_count": null,
   "id": "b8151714-b1b4-4239-b04b-e6c5f69e4c0c",
   "metadata": {},
   "outputs": [],
   "source": [
    "if(!is.null(plink2_bcf_dictionary)){\n",
    "\t\tld_table_checked <- apply_dict(plink2_bcf_dictionary, ld_table)\n",
    "\n",
    "\t\tsnp_keep_list_checked <- apply_dict(plink2_bcf_dictionary, keep_snp_list)\n",
    "\n",
    "        gwas_table_dicted <- apply_dict(plink2_bcf_dictionary, gwas_table)\n",
    "\t} else{\n",
    "\t\t\n",
    "\t\tld_table_checked <-  ld_table\n",
    "\n",
    "\t\tsnp_keep_list_checked <- keep_snp_list\n",
    "\n",
    "        gwas_table_dicted <- gwas_table\n",
    "\t}"
   ]
  },
  {
   "cell_type": "code",
   "execution_count": null,
   "id": "e7966276-770d-4815-a147-a4621eb2b526",
   "metadata": {},
   "outputs": [],
   "source": [
    "keep_table_path <- keep_table_sanitizer(snp_keep_list_checked)"
   ]
  },
  {
   "cell_type": "code",
   "execution_count": null,
   "id": "d0fc4a90-697d-49ca-941c-60409882acff",
   "metadata": {},
   "outputs": [],
   "source": [
    "keep_table_path"
   ]
  },
  {
   "cell_type": "code",
   "execution_count": null,
   "id": "36bc0335-69b7-4222-8e03-c809fbcae787",
   "metadata": {},
   "outputs": [],
   "source": [
    "filtered_vcf_table <- filter_vcf_file(vcf_file_path = vcf_file_path, keep_table_path)"
   ]
  },
  {
   "cell_type": "code",
   "execution_count": null,
   "id": "baf4f2e5-c943-4fbc-bd66-83490de09f9e",
   "metadata": {},
   "outputs": [],
   "source": [
    "split_table_path <- split_vcf_eff(filtered_vcf_table)"
   ]
  },
  {
   "cell_type": "code",
   "execution_count": null,
   "id": "04df7846-a967-48dc-93e0-d38e84bfb494",
   "metadata": {},
   "outputs": [],
   "source": [
    "snpeff_table <- execute_snpsift(split_table_path)"
   ]
  },
  {
   "cell_type": "code",
   "execution_count": null,
   "id": "12959626-8bdf-4fd8-b993-6261d54d4de8",
   "metadata": {},
   "outputs": [],
   "source": [
    "snpsift_table <- snpeff_table$table"
   ]
  },
  {
   "cell_type": "code",
   "execution_count": null,
   "id": "a40a88d1-0533-4fc7-89ca-f9487574acc5",
   "metadata": {},
   "outputs": [],
   "source": [
    "all.impacts = TRUE\n",
    "if(all.impacts){\n",
    "        snpsift_table_impacts <- snpsift_table\n",
    "    } else {\n",
    "        snpsift_table_impacts <- snpsift_table %>% \n",
    "            filter(IMPACT %in% c(\"HIGH\",\"MODERATE\") | BP == bp ) # The OR condition lets us retain the tag SNP which might be dropped if the IMPACT factor is not HIGH or MODERATE\n",
    "    }"
   ]
  },
  {
   "cell_type": "code",
   "execution_count": null,
   "id": "f9f80579-8387-4fc5-a487-302fd0857642",
   "metadata": {},
   "outputs": [],
   "source": [
    "pvalues_impact_ld_table <- snpsift_table_impacts %>%\n",
    "        left_join(gwas_table_dicted, by = c(\"CHROM\",\"BP\")) %>%\n",
    "        left_join(ld_table_checked, by = c(\"CHROM\",\"BP\"))"
   ]
  },
  {
   "cell_type": "code",
   "execution_count": null,
   "id": "b090ec87-12d2-4c34-add0-a29c3b28082b",
   "metadata": {},
   "outputs": [],
   "source": [
    "    pvalues_impact_ld_colors_table <- pvalues_impact_ld_table %>% mutate(\n",
    "        Type = case_when(\n",
    "            BP == bp ~ \"tag_snp\",\n",
    "            BP != bp ~ \"Candidate\"\n",
    "        )\n",
    "    )"
   ]
  },
  {
   "cell_type": "code",
   "execution_count": null,
   "id": "8c699562-f28a-4a24-bb4e-7477d0faa34b",
   "metadata": {},
   "outputs": [],
   "source": [
    "overall_weight_func(pvalues_impact_ld_colors_table, bp = bp) %>% \n",
    "    filter(IMPACT %in% c(\"HIGH\",\"MODERATE\"))"
   ]
  },
  {
   "cell_type": "code",
   "execution_count": 69,
   "id": "0c25f8ed-c253-454c-b22d-d4deae28821f",
   "metadata": {},
   "outputs": [
    {
     "data": {
      "text/html": [
       "<table class=\"dataframe\">\n",
       "<caption>A data.table: 5053806 × 3</caption>\n",
       "<thead>\n",
       "\t<tr><th scope=col>CHROM</th><th scope=col>BP</th><th scope=col>Pvalues</th></tr>\n",
       "\t<tr><th scope=col>&lt;int&gt;</th><th scope=col>&lt;int&gt;</th><th scope=col>&lt;dbl&gt;</th></tr>\n",
       "</thead>\n",
       "<tbody>\n",
       "\t<tr><td>1</td><td>17548900</td><td>21.38204</td></tr>\n",
       "\t<tr><td>1</td><td>17454093</td><td>20.81491</td></tr>\n",
       "\t<tr><td>1</td><td>17500022</td><td>20.81491</td></tr>\n",
       "\t<tr><td>1</td><td>17574841</td><td>20.16318</td></tr>\n",
       "\t<tr><td>1</td><td>17278109</td><td>19.76206</td></tr>\n",
       "\t<tr><td>1</td><td>17542258</td><td>19.66837</td></tr>\n",
       "\t<tr><td>1</td><td>18361956</td><td>19.58779</td></tr>\n",
       "\t<tr><td>1</td><td>17385614</td><td>19.51070</td></tr>\n",
       "\t<tr><td>1</td><td>17280005</td><td>19.15257</td></tr>\n",
       "\t<tr><td>1</td><td>17280033</td><td>19.15257</td></tr>\n",
       "\t<tr><td>1</td><td>17280068</td><td>19.15257</td></tr>\n",
       "\t<tr><td>1</td><td>17279552</td><td>19.14374</td></tr>\n",
       "\t<tr><td>1</td><td>18371447</td><td>19.05109</td></tr>\n",
       "\t<tr><td>1</td><td>17279476</td><td>18.98522</td></tr>\n",
       "\t<tr><td>9</td><td>62608483</td><td>18.78691</td></tr>\n",
       "\t<tr><td>1</td><td>17276760</td><td>18.60155</td></tr>\n",
       "\t<tr><td>1</td><td>18178909</td><td>18.57977</td></tr>\n",
       "\t<tr><td>1</td><td>17385746</td><td>18.56973</td></tr>\n",
       "\t<tr><td>1</td><td>17625021</td><td>18.49235</td></tr>\n",
       "\t<tr><td>4</td><td>66529675</td><td>18.46010</td></tr>\n",
       "\t<tr><td>4</td><td>66029775</td><td>18.44765</td></tr>\n",
       "\t<tr><td>1</td><td>17670662</td><td>18.43559</td></tr>\n",
       "\t<tr><td>4</td><td>66520247</td><td>18.04712</td></tr>\n",
       "\t<tr><td>4</td><td>66520253</td><td>18.04712</td></tr>\n",
       "\t<tr><td>4</td><td>66507102</td><td>17.82165</td></tr>\n",
       "\t<tr><td>4</td><td>66508050</td><td>17.82165</td></tr>\n",
       "\t<tr><td>4</td><td>66508382</td><td>17.82165</td></tr>\n",
       "\t<tr><td>4</td><td>66509529</td><td>17.82165</td></tr>\n",
       "\t<tr><td>4</td><td>66510538</td><td>17.82165</td></tr>\n",
       "\t<tr><td>4</td><td>66512276</td><td>17.82165</td></tr>\n",
       "\t<tr><td>⋮</td><td>⋮</td><td>⋮</td></tr>\n",
       "\t<tr><td>10</td><td>62535698</td><td>0.00000454098044</td></tr>\n",
       "\t<tr><td> 8</td><td>40132872</td><td>0.00000452965373</td></tr>\n",
       "\t<tr><td>10</td><td>44881160</td><td>0.00000441588826</td></tr>\n",
       "\t<tr><td> 7</td><td>15575398</td><td>0.00000436116462</td></tr>\n",
       "\t<tr><td> 9</td><td>49372813</td><td>0.00000417631179</td></tr>\n",
       "\t<tr><td> 1</td><td>71794540</td><td>0.00000405527179</td></tr>\n",
       "\t<tr><td> 1</td><td>71794546</td><td>0.00000405527179</td></tr>\n",
       "\t<tr><td> 6</td><td>12563181</td><td>0.00000404195177</td></tr>\n",
       "\t<tr><td> 6</td><td>14494217</td><td>0.00000346817917</td></tr>\n",
       "\t<tr><td> 5</td><td>66195508</td><td>0.00000327196860</td></tr>\n",
       "\t<tr><td> 3</td><td>73249186</td><td>0.00000272401188</td></tr>\n",
       "\t<tr><td> 1</td><td>25211461</td><td>0.00000220599768</td></tr>\n",
       "\t<tr><td> 9</td><td> 5003937</td><td>0.00000203290924</td></tr>\n",
       "\t<tr><td> 3</td><td>11488395</td><td>0.00000196858814</td></tr>\n",
       "\t<tr><td> 1</td><td> 6053296</td><td>0.00000192816523</td></tr>\n",
       "\t<tr><td> 6</td><td>29672786</td><td>0.00000162355341</td></tr>\n",
       "\t<tr><td> 3</td><td>20134306</td><td>0.00000143475839</td></tr>\n",
       "\t<tr><td> 3</td><td>15675396</td><td>0.00000129062796</td></tr>\n",
       "\t<tr><td> 1</td><td>57936656</td><td>0.00000117121135</td></tr>\n",
       "\t<tr><td> 5</td><td>34223372</td><td>0.00000066383086</td></tr>\n",
       "\t<tr><td> 3</td><td>44828943</td><td>0.00000061975582</td></tr>\n",
       "\t<tr><td> 3</td><td>20111708</td><td>0.00000052672771</td></tr>\n",
       "\t<tr><td>10</td><td>20662629</td><td>0.00000052653626</td></tr>\n",
       "\t<tr><td> 7</td><td>10452771</td><td>0.00000037583853</td></tr>\n",
       "\t<tr><td> 2</td><td>77250570</td><td>0.00000029152036</td></tr>\n",
       "\t<tr><td> 8</td><td>14576453</td><td>0.00000021814067</td></tr>\n",
       "\t<tr><td> 9</td><td>56409031</td><td>0.00000021184754</td></tr>\n",
       "\t<tr><td> 1</td><td>65444044</td><td>0.00000020872720</td></tr>\n",
       "\t<tr><td>10</td><td> 7561502</td><td>0.00000004148189</td></tr>\n",
       "\t<tr><td> 1</td><td>33593629</td><td>0.00000000955759</td></tr>\n",
       "</tbody>\n",
       "</table>\n"
      ],
      "text/latex": [
       "A data.table: 5053806 × 3\n",
       "\\begin{tabular}{lll}\n",
       " CHROM & BP & Pvalues\\\\\n",
       " <int> & <int> & <dbl>\\\\\n",
       "\\hline\n",
       "\t 1 & 17548900 & 21.38204\\\\\n",
       "\t 1 & 17454093 & 20.81491\\\\\n",
       "\t 1 & 17500022 & 20.81491\\\\\n",
       "\t 1 & 17574841 & 20.16318\\\\\n",
       "\t 1 & 17278109 & 19.76206\\\\\n",
       "\t 1 & 17542258 & 19.66837\\\\\n",
       "\t 1 & 18361956 & 19.58779\\\\\n",
       "\t 1 & 17385614 & 19.51070\\\\\n",
       "\t 1 & 17280005 & 19.15257\\\\\n",
       "\t 1 & 17280033 & 19.15257\\\\\n",
       "\t 1 & 17280068 & 19.15257\\\\\n",
       "\t 1 & 17279552 & 19.14374\\\\\n",
       "\t 1 & 18371447 & 19.05109\\\\\n",
       "\t 1 & 17279476 & 18.98522\\\\\n",
       "\t 9 & 62608483 & 18.78691\\\\\n",
       "\t 1 & 17276760 & 18.60155\\\\\n",
       "\t 1 & 18178909 & 18.57977\\\\\n",
       "\t 1 & 17385746 & 18.56973\\\\\n",
       "\t 1 & 17625021 & 18.49235\\\\\n",
       "\t 4 & 66529675 & 18.46010\\\\\n",
       "\t 4 & 66029775 & 18.44765\\\\\n",
       "\t 1 & 17670662 & 18.43559\\\\\n",
       "\t 4 & 66520247 & 18.04712\\\\\n",
       "\t 4 & 66520253 & 18.04712\\\\\n",
       "\t 4 & 66507102 & 17.82165\\\\\n",
       "\t 4 & 66508050 & 17.82165\\\\\n",
       "\t 4 & 66508382 & 17.82165\\\\\n",
       "\t 4 & 66509529 & 17.82165\\\\\n",
       "\t 4 & 66510538 & 17.82165\\\\\n",
       "\t 4 & 66512276 & 17.82165\\\\\n",
       "\t ⋮ & ⋮ & ⋮\\\\\n",
       "\t 10 & 62535698 & 0.00000454098044\\\\\n",
       "\t  8 & 40132872 & 0.00000452965373\\\\\n",
       "\t 10 & 44881160 & 0.00000441588826\\\\\n",
       "\t  7 & 15575398 & 0.00000436116462\\\\\n",
       "\t  9 & 49372813 & 0.00000417631179\\\\\n",
       "\t  1 & 71794540 & 0.00000405527179\\\\\n",
       "\t  1 & 71794546 & 0.00000405527179\\\\\n",
       "\t  6 & 12563181 & 0.00000404195177\\\\\n",
       "\t  6 & 14494217 & 0.00000346817917\\\\\n",
       "\t  5 & 66195508 & 0.00000327196860\\\\\n",
       "\t  3 & 73249186 & 0.00000272401188\\\\\n",
       "\t  1 & 25211461 & 0.00000220599768\\\\\n",
       "\t  9 &  5003937 & 0.00000203290924\\\\\n",
       "\t  3 & 11488395 & 0.00000196858814\\\\\n",
       "\t  1 &  6053296 & 0.00000192816523\\\\\n",
       "\t  6 & 29672786 & 0.00000162355341\\\\\n",
       "\t  3 & 20134306 & 0.00000143475839\\\\\n",
       "\t  3 & 15675396 & 0.00000129062796\\\\\n",
       "\t  1 & 57936656 & 0.00000117121135\\\\\n",
       "\t  5 & 34223372 & 0.00000066383086\\\\\n",
       "\t  3 & 44828943 & 0.00000061975582\\\\\n",
       "\t  3 & 20111708 & 0.00000052672771\\\\\n",
       "\t 10 & 20662629 & 0.00000052653626\\\\\n",
       "\t  7 & 10452771 & 0.00000037583853\\\\\n",
       "\t  2 & 77250570 & 0.00000029152036\\\\\n",
       "\t  8 & 14576453 & 0.00000021814067\\\\\n",
       "\t  9 & 56409031 & 0.00000021184754\\\\\n",
       "\t  1 & 65444044 & 0.00000020872720\\\\\n",
       "\t 10 &  7561502 & 0.00000004148189\\\\\n",
       "\t  1 & 33593629 & 0.00000000955759\\\\\n",
       "\\end{tabular}\n"
      ],
      "text/markdown": [
       "\n",
       "A data.table: 5053806 × 3\n",
       "\n",
       "| CHROM &lt;int&gt; | BP &lt;int&gt; | Pvalues &lt;dbl&gt; |\n",
       "|---|---|---|\n",
       "| 1 | 17548900 | 21.38204 |\n",
       "| 1 | 17454093 | 20.81491 |\n",
       "| 1 | 17500022 | 20.81491 |\n",
       "| 1 | 17574841 | 20.16318 |\n",
       "| 1 | 17278109 | 19.76206 |\n",
       "| 1 | 17542258 | 19.66837 |\n",
       "| 1 | 18361956 | 19.58779 |\n",
       "| 1 | 17385614 | 19.51070 |\n",
       "| 1 | 17280005 | 19.15257 |\n",
       "| 1 | 17280033 | 19.15257 |\n",
       "| 1 | 17280068 | 19.15257 |\n",
       "| 1 | 17279552 | 19.14374 |\n",
       "| 1 | 18371447 | 19.05109 |\n",
       "| 1 | 17279476 | 18.98522 |\n",
       "| 9 | 62608483 | 18.78691 |\n",
       "| 1 | 17276760 | 18.60155 |\n",
       "| 1 | 18178909 | 18.57977 |\n",
       "| 1 | 17385746 | 18.56973 |\n",
       "| 1 | 17625021 | 18.49235 |\n",
       "| 4 | 66529675 | 18.46010 |\n",
       "| 4 | 66029775 | 18.44765 |\n",
       "| 1 | 17670662 | 18.43559 |\n",
       "| 4 | 66520247 | 18.04712 |\n",
       "| 4 | 66520253 | 18.04712 |\n",
       "| 4 | 66507102 | 17.82165 |\n",
       "| 4 | 66508050 | 17.82165 |\n",
       "| 4 | 66508382 | 17.82165 |\n",
       "| 4 | 66509529 | 17.82165 |\n",
       "| 4 | 66510538 | 17.82165 |\n",
       "| 4 | 66512276 | 17.82165 |\n",
       "| ⋮ | ⋮ | ⋮ |\n",
       "| 10 | 62535698 | 0.00000454098044 |\n",
       "|  8 | 40132872 | 0.00000452965373 |\n",
       "| 10 | 44881160 | 0.00000441588826 |\n",
       "|  7 | 15575398 | 0.00000436116462 |\n",
       "|  9 | 49372813 | 0.00000417631179 |\n",
       "|  1 | 71794540 | 0.00000405527179 |\n",
       "|  1 | 71794546 | 0.00000405527179 |\n",
       "|  6 | 12563181 | 0.00000404195177 |\n",
       "|  6 | 14494217 | 0.00000346817917 |\n",
       "|  5 | 66195508 | 0.00000327196860 |\n",
       "|  3 | 73249186 | 0.00000272401188 |\n",
       "|  1 | 25211461 | 0.00000220599768 |\n",
       "|  9 |  5003937 | 0.00000203290924 |\n",
       "|  3 | 11488395 | 0.00000196858814 |\n",
       "|  1 |  6053296 | 0.00000192816523 |\n",
       "|  6 | 29672786 | 0.00000162355341 |\n",
       "|  3 | 20134306 | 0.00000143475839 |\n",
       "|  3 | 15675396 | 0.00000129062796 |\n",
       "|  1 | 57936656 | 0.00000117121135 |\n",
       "|  5 | 34223372 | 0.00000066383086 |\n",
       "|  3 | 44828943 | 0.00000061975582 |\n",
       "|  3 | 20111708 | 0.00000052672771 |\n",
       "| 10 | 20662629 | 0.00000052653626 |\n",
       "|  7 | 10452771 | 0.00000037583853 |\n",
       "|  2 | 77250570 | 0.00000029152036 |\n",
       "|  8 | 14576453 | 0.00000021814067 |\n",
       "|  9 | 56409031 | 0.00000021184754 |\n",
       "|  1 | 65444044 | 0.00000020872720 |\n",
       "| 10 |  7561502 | 0.00000004148189 |\n",
       "|  1 | 33593629 | 0.00000000955759 |\n",
       "\n"
      ],
      "text/plain": [
       "        CHROM BP       Pvalues         \n",
       "1       1     17548900 21.38204        \n",
       "2       1     17454093 20.81491        \n",
       "3       1     17500022 20.81491        \n",
       "4       1     17574841 20.16318        \n",
       "5       1     17278109 19.76206        \n",
       "6       1     17542258 19.66837        \n",
       "7       1     18361956 19.58779        \n",
       "8       1     17385614 19.51070        \n",
       "9       1     17280005 19.15257        \n",
       "10      1     17280033 19.15257        \n",
       "11      1     17280068 19.15257        \n",
       "12      1     17279552 19.14374        \n",
       "13      1     18371447 19.05109        \n",
       "14      1     17279476 18.98522        \n",
       "15      9     62608483 18.78691        \n",
       "16      1     17276760 18.60155        \n",
       "17      1     18178909 18.57977        \n",
       "18      1     17385746 18.56973        \n",
       "19      1     17625021 18.49235        \n",
       "20      4     66529675 18.46010        \n",
       "21      4     66029775 18.44765        \n",
       "22      1     17670662 18.43559        \n",
       "23      4     66520247 18.04712        \n",
       "24      4     66520253 18.04712        \n",
       "25      4     66507102 17.82165        \n",
       "26      4     66508050 17.82165        \n",
       "27      4     66508382 17.82165        \n",
       "28      4     66509529 17.82165        \n",
       "29      4     66510538 17.82165        \n",
       "30      4     66512276 17.82165        \n",
       "⋮       ⋮     ⋮        ⋮               \n",
       "5053777 10    62535698 0.00000454098044\n",
       "5053778  8    40132872 0.00000452965373\n",
       "5053779 10    44881160 0.00000441588826\n",
       "5053780  7    15575398 0.00000436116462\n",
       "5053781  9    49372813 0.00000417631179\n",
       "5053782  1    71794540 0.00000405527179\n",
       "5053783  1    71794546 0.00000405527179\n",
       "5053784  6    12563181 0.00000404195177\n",
       "5053785  6    14494217 0.00000346817917\n",
       "5053786  5    66195508 0.00000327196860\n",
       "5053787  3    73249186 0.00000272401188\n",
       "5053788  1    25211461 0.00000220599768\n",
       "5053789  9     5003937 0.00000203290924\n",
       "5053790  3    11488395 0.00000196858814\n",
       "5053791  1     6053296 0.00000192816523\n",
       "5053792  6    29672786 0.00000162355341\n",
       "5053793  3    20134306 0.00000143475839\n",
       "5053794  3    15675396 0.00000129062796\n",
       "5053795  1    57936656 0.00000117121135\n",
       "5053796  5    34223372 0.00000066383086\n",
       "5053797  3    44828943 0.00000061975582\n",
       "5053798  3    20111708 0.00000052672771\n",
       "5053799 10    20662629 0.00000052653626\n",
       "5053800  7    10452771 0.00000037583853\n",
       "5053801  2    77250570 0.00000029152036\n",
       "5053802  8    14576453 0.00000021814067\n",
       "5053803  9    56409031 0.00000021184754\n",
       "5053804  1    65444044 0.00000020872720\n",
       "5053805 10     7561502 0.00000004148189\n",
       "5053806  1    33593629 0.00000000955759"
      ]
     },
     "metadata": {},
     "output_type": "display_data"
    }
   ],
   "source": [
    "gwas_table"
   ]
  },
  {
   "cell_type": "code",
   "execution_count": null,
   "id": "216d38a8-c72e-4c28-a933-686e816f1242",
   "metadata": {},
   "outputs": [],
   "source": []
  }
 ],
 "metadata": {
  "kernelspec": {
   "display_name": "R [conda env:panvar_devel]",
   "language": "R",
   "name": "conda-env-panvar_devel-r"
  },
  "language_info": {
   "codemirror_mode": "r",
   "file_extension": ".r",
   "mimetype": "text/x-r-source",
   "name": "R",
   "pygments_lexer": "r",
   "version": "4.4.1"
  }
 },
 "nbformat": 4,
 "nbformat_minor": 5
}

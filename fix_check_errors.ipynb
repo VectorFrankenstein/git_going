{
 "cells": [
  {
   "cell_type": "markdown",
   "id": "1ed24731-e91d-425e-8800-04f6ce9a532a",
   "metadata": {},
   "source": [
    "# Purpose:\n",
    "\n",
    "Fix the source error in panvar created by the wrong import in devtools.\n",
    "\n",
    "When `devtools::check()` is run we get errors missing global definitions errors.\n",
    "\n",
    "For example:-\n",
    "\n",
    "```\n",
    "check_gwas_table: no visible global function definition for ‘fread’\n",
    "check_gwas_table: no visible global function definition for ‘%>%’\n",
    "check_gwas_table: no visible global function definition for ‘select’\n",
    "check_gwas_table: no visible binding for global variable ‘CHROM’\n",
    "check_gwas_table: no visible binding for global variable ‘BP’\n",
    "check_gwas_table: no visible binding for global variable ‘Pvalues’\n",
    "```"
   ]
  },
  {
   "cell_type": "code",
   "execution_count": null,
   "id": "68522242-433b-40d1-9ef3-1449b0dcc557",
   "metadata": {},
   "outputs": [],
   "source": [
    "library(devtools)"
   ]
  },
  {
   "cell_type": "markdown",
   "id": "acdea982-1f86-463b-960d-9607fd0c358e",
   "metadata": {},
   "source": [
    "# Import the devel code for panvar"
   ]
  },
  {
   "cell_type": "code",
   "execution_count": null,
   "id": "b28b7f03-ce16-4586-9f23-4067a7e53a49",
   "metadata": {},
   "outputs": [],
   "source": [
    "load_all(\"/shares/baxter/users/rdhakal/repos/devel_panvar\")"
   ]
  },
  {
   "cell_type": "code",
   "execution_count": null,
   "id": "e65a3a7e-97cb-4f1a-8af0-6d1e2fd49afe",
   "metadata": {},
   "outputs": [],
   "source": [
    "# Necessary to make documentation\n",
    "setwd(\"~/repos/devel_panvar/\")"
   ]
  },
  {
   "cell_type": "code",
   "execution_count": null,
   "id": "74df54cc-70e8-4847-a5bb-c0ada0640315",
   "metadata": {},
   "outputs": [],
   "source": [
    "devtools::document()"
   ]
  },
  {
   "cell_type": "code",
   "execution_count": null,
   "id": "152827a5-feeb-444d-8f72-405fe548da2c",
   "metadata": {},
   "outputs": [],
   "source": [
    "devtools::build()"
   ]
  },
  {
   "cell_type": "code",
   "execution_count": null,
   "id": "b33c4a0e-9504-400a-8dfb-13ec99e1c2ad",
   "metadata": {},
   "outputs": [],
   "source": [
    "devtools::build_rmd(\"vignettes/panvaR.Rmd\")"
   ]
  },
  {
   "cell_type": "code",
   "execution_count": null,
   "id": "0cbb1a8f-9130-4554-a6bc-a060902067aa",
   "metadata": {},
   "outputs": [],
   "source": [
    "devtools::check()"
   ]
  },
  {
   "cell_type": "code",
   "execution_count": null,
   "id": "bd05be3c-fe2b-4ada-bd84-ad19249d4d39",
   "metadata": {},
   "outputs": [],
   "source": [
    "?big_randomSVD"
   ]
  },
  {
   "cell_type": "code",
   "execution_count": null,
   "id": "39cef125-f667-448a-9b40-7ca4fd33f60f",
   "metadata": {},
   "outputs": [],
   "source": []
  }
 ],
 "metadata": {
  "kernelspec": {
   "display_name": "R [conda env:panvar_devel]",
   "language": "R",
   "name": "conda-env-panvar_devel-r"
  },
  "language_info": {
   "codemirror_mode": "r",
   "file_extension": ".r",
   "mimetype": "text/x-r-source",
   "name": "R",
   "pygments_lexer": "r",
   "version": "4.4.1"
  }
 },
 "nbformat": 4,
 "nbformat_minor": 5
}
